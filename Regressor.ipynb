{
 "cells": [
  {
   "cell_type": "code",
   "execution_count": 101,
   "metadata": {},
   "outputs": [
    {
     "output_type": "execute_result",
     "data": {
      "text/plain": "(100000, 35)"
     },
     "metadata": {},
     "execution_count": 101
    }
   ],
   "source": [
    "import pandas as pd\n",
    "import xlrd\n",
    "stu_inf = pd.read_csv('./test.csv',encoding = 'gb18030')\n",
    "stu_inf.head()\n",
    "stu_inf.shape"
   ]
  },
  {
   "cell_type": "code",
   "execution_count": 102,
   "metadata": {},
   "outputs": [
    {
     "output_type": "execute_result",
     "data": {
      "text/plain": "   school  class  age  address  famsize  Pstatus  Medu  Fedu  Mjob  Fjob  ...  \\\n0       0      0   16        0        1        1     2     2     3     2  ...   \n1       0      1   17        0        1        1     1     4     4     0  ...   \n2       0      0   20        0        0        1     2     1     2     1  ...   \n3       0      1   15        1        0        1     4     2     3     1  ...   \n4       0      0   16        0        1        0     1     2     3     0  ...   \n\n   Walc  health  absences  All_Sup  PairEdu  more_high  All_alc  \\\n0     5       5         0    False      2.0       True        7   \n1     2       4         7    False      2.5      False        7   \n2     4       4         5    False      1.5       True        8   \n3     4       2         8    False      3.0      False        9   \n4     3       2         3     True      1.5       True        6   \n\n   Dalc_per_week  studytime_ratio     G  \n0       0.285714         0.333333   7.0  \n1       0.714286         0.600000   9.0  \n2       0.500000         0.333333  10.0  \n3       0.555556         0.363636  10.0  \n4       0.500000         0.500000  10.0  \n\n[5 rows x 35 columns]",
      "text/html": "<div>\n<style scoped>\n    .dataframe tbody tr th:only-of-type {\n        vertical-align: middle;\n    }\n\n    .dataframe tbody tr th {\n        vertical-align: top;\n    }\n\n    .dataframe thead th {\n        text-align: right;\n    }\n</style>\n<table border=\"1\" class=\"dataframe\">\n  <thead>\n    <tr style=\"text-align: right;\">\n      <th></th>\n      <th>school</th>\n      <th>class</th>\n      <th>age</th>\n      <th>address</th>\n      <th>famsize</th>\n      <th>Pstatus</th>\n      <th>Medu</th>\n      <th>Fedu</th>\n      <th>Mjob</th>\n      <th>Fjob</th>\n      <th>...</th>\n      <th>Walc</th>\n      <th>health</th>\n      <th>absences</th>\n      <th>All_Sup</th>\n      <th>PairEdu</th>\n      <th>more_high</th>\n      <th>All_alc</th>\n      <th>Dalc_per_week</th>\n      <th>studytime_ratio</th>\n      <th>G</th>\n    </tr>\n  </thead>\n  <tbody>\n    <tr>\n      <th>0</th>\n      <td>0</td>\n      <td>0</td>\n      <td>16</td>\n      <td>0</td>\n      <td>1</td>\n      <td>1</td>\n      <td>2</td>\n      <td>2</td>\n      <td>3</td>\n      <td>2</td>\n      <td>...</td>\n      <td>5</td>\n      <td>5</td>\n      <td>0</td>\n      <td>False</td>\n      <td>2.0</td>\n      <td>True</td>\n      <td>7</td>\n      <td>0.285714</td>\n      <td>0.333333</td>\n      <td>7.0</td>\n    </tr>\n    <tr>\n      <th>1</th>\n      <td>0</td>\n      <td>1</td>\n      <td>17</td>\n      <td>0</td>\n      <td>1</td>\n      <td>1</td>\n      <td>1</td>\n      <td>4</td>\n      <td>4</td>\n      <td>0</td>\n      <td>...</td>\n      <td>2</td>\n      <td>4</td>\n      <td>7</td>\n      <td>False</td>\n      <td>2.5</td>\n      <td>False</td>\n      <td>7</td>\n      <td>0.714286</td>\n      <td>0.600000</td>\n      <td>9.0</td>\n    </tr>\n    <tr>\n      <th>2</th>\n      <td>0</td>\n      <td>0</td>\n      <td>20</td>\n      <td>0</td>\n      <td>0</td>\n      <td>1</td>\n      <td>2</td>\n      <td>1</td>\n      <td>2</td>\n      <td>1</td>\n      <td>...</td>\n      <td>4</td>\n      <td>4</td>\n      <td>5</td>\n      <td>False</td>\n      <td>1.5</td>\n      <td>True</td>\n      <td>8</td>\n      <td>0.500000</td>\n      <td>0.333333</td>\n      <td>10.0</td>\n    </tr>\n    <tr>\n      <th>3</th>\n      <td>0</td>\n      <td>1</td>\n      <td>15</td>\n      <td>1</td>\n      <td>0</td>\n      <td>1</td>\n      <td>4</td>\n      <td>2</td>\n      <td>3</td>\n      <td>1</td>\n      <td>...</td>\n      <td>4</td>\n      <td>2</td>\n      <td>8</td>\n      <td>False</td>\n      <td>3.0</td>\n      <td>False</td>\n      <td>9</td>\n      <td>0.555556</td>\n      <td>0.363636</td>\n      <td>10.0</td>\n    </tr>\n    <tr>\n      <th>4</th>\n      <td>0</td>\n      <td>0</td>\n      <td>16</td>\n      <td>0</td>\n      <td>1</td>\n      <td>0</td>\n      <td>1</td>\n      <td>2</td>\n      <td>3</td>\n      <td>0</td>\n      <td>...</td>\n      <td>3</td>\n      <td>2</td>\n      <td>3</td>\n      <td>True</td>\n      <td>1.5</td>\n      <td>True</td>\n      <td>6</td>\n      <td>0.500000</td>\n      <td>0.500000</td>\n      <td>10.0</td>\n    </tr>\n  </tbody>\n</table>\n<p>5 rows × 35 columns</p>\n</div>"
     },
     "metadata": {},
     "execution_count": 102
    }
   ],
   "source": [
    "df_train = stu_inf[0:70000]\n",
    "df_train.head()\n",
    "# df_train.shape"
   ]
  },
  {
   "cell_type": "code",
   "execution_count": 103,
   "metadata": {},
   "outputs": [
    {
     "output_type": "execute_result",
     "data": {
      "text/plain": "       school  class  age  address  famsize  Pstatus  Medu  Fedu  Mjob  Fjob  \\\n70000       1      0   19        1        0        0     2     4     1     1   \n70001       1      1   15        0        0        1     4     2     1     0   \n70002       1      1   17        1        0        1     1     3     1     2   \n70003       1      0   20        1        1        0     1     1     3     4   \n70004       0      0   22        1        0        1     2     3     0     0   \n...       ...    ...  ...      ...      ...      ...   ...   ...   ...   ...   \n99995       0      0   18        0        1        0     2     1     3     0   \n99996       1      1   15        1        0        1     1     1     1     2   \n99997       1      0   22        1        1        0     4     4     0     2   \n99998       0      0   20        0        0        1     4     4     1     1   \n99999       1      1   16        1        1        1     1     4     2     2   \n\n       ...  goout  Walc  health  absences  All_Sup  PairEdu  more_high  \\\n70000  ...      5     2       2         6    False      3.0       True   \n70001  ...      5     4       3         2    False      3.0      False   \n70002  ...      5     4       2         7     True      2.0      False   \n70003  ...      1     1       2         7    False      1.0       True   \n70004  ...      5     3       2         5    False      2.5       True   \n...    ...    ...   ...     ...       ...      ...      ...        ...   \n99995  ...      1     2       5         8     True      1.5      False   \n99996  ...      1     3       3         4    False      1.0      False   \n99997  ...      1     5       5         1    False      4.0      False   \n99998  ...      1     3       1         5     True      4.0       True   \n99999  ...      3     5       1         5    False      2.5      False   \n\n       All_alc  Dalc_per_week  studytime_ratio  \n70000        7       0.714286         0.375000  \n70001        6       0.333333         0.125000  \n70002        5       0.200000         0.222222  \n70003        4       0.750000         0.222222  \n70004        4       0.250000         0.333333  \n...        ...            ...              ...  \n99995        3       0.333333         0.500000  \n99996        5       0.400000         0.250000  \n99997        9       0.444444         0.333333  \n99998        7       0.571429         0.250000  \n99999        7       0.285714         0.333333  \n\n[30000 rows x 34 columns]",
      "text/html": "<div>\n<style scoped>\n    .dataframe tbody tr th:only-of-type {\n        vertical-align: middle;\n    }\n\n    .dataframe tbody tr th {\n        vertical-align: top;\n    }\n\n    .dataframe thead th {\n        text-align: right;\n    }\n</style>\n<table border=\"1\" class=\"dataframe\">\n  <thead>\n    <tr style=\"text-align: right;\">\n      <th></th>\n      <th>school</th>\n      <th>class</th>\n      <th>age</th>\n      <th>address</th>\n      <th>famsize</th>\n      <th>Pstatus</th>\n      <th>Medu</th>\n      <th>Fedu</th>\n      <th>Mjob</th>\n      <th>Fjob</th>\n      <th>...</th>\n      <th>goout</th>\n      <th>Walc</th>\n      <th>health</th>\n      <th>absences</th>\n      <th>All_Sup</th>\n      <th>PairEdu</th>\n      <th>more_high</th>\n      <th>All_alc</th>\n      <th>Dalc_per_week</th>\n      <th>studytime_ratio</th>\n    </tr>\n  </thead>\n  <tbody>\n    <tr>\n      <th>70000</th>\n      <td>1</td>\n      <td>0</td>\n      <td>19</td>\n      <td>1</td>\n      <td>0</td>\n      <td>0</td>\n      <td>2</td>\n      <td>4</td>\n      <td>1</td>\n      <td>1</td>\n      <td>...</td>\n      <td>5</td>\n      <td>2</td>\n      <td>2</td>\n      <td>6</td>\n      <td>False</td>\n      <td>3.0</td>\n      <td>True</td>\n      <td>7</td>\n      <td>0.714286</td>\n      <td>0.375000</td>\n    </tr>\n    <tr>\n      <th>70001</th>\n      <td>1</td>\n      <td>1</td>\n      <td>15</td>\n      <td>0</td>\n      <td>0</td>\n      <td>1</td>\n      <td>4</td>\n      <td>2</td>\n      <td>1</td>\n      <td>0</td>\n      <td>...</td>\n      <td>5</td>\n      <td>4</td>\n      <td>3</td>\n      <td>2</td>\n      <td>False</td>\n      <td>3.0</td>\n      <td>False</td>\n      <td>6</td>\n      <td>0.333333</td>\n      <td>0.125000</td>\n    </tr>\n    <tr>\n      <th>70002</th>\n      <td>1</td>\n      <td>1</td>\n      <td>17</td>\n      <td>1</td>\n      <td>0</td>\n      <td>1</td>\n      <td>1</td>\n      <td>3</td>\n      <td>1</td>\n      <td>2</td>\n      <td>...</td>\n      <td>5</td>\n      <td>4</td>\n      <td>2</td>\n      <td>7</td>\n      <td>True</td>\n      <td>2.0</td>\n      <td>False</td>\n      <td>5</td>\n      <td>0.200000</td>\n      <td>0.222222</td>\n    </tr>\n    <tr>\n      <th>70003</th>\n      <td>1</td>\n      <td>0</td>\n      <td>20</td>\n      <td>1</td>\n      <td>1</td>\n      <td>0</td>\n      <td>1</td>\n      <td>1</td>\n      <td>3</td>\n      <td>4</td>\n      <td>...</td>\n      <td>1</td>\n      <td>1</td>\n      <td>2</td>\n      <td>7</td>\n      <td>False</td>\n      <td>1.0</td>\n      <td>True</td>\n      <td>4</td>\n      <td>0.750000</td>\n      <td>0.222222</td>\n    </tr>\n    <tr>\n      <th>70004</th>\n      <td>0</td>\n      <td>0</td>\n      <td>22</td>\n      <td>1</td>\n      <td>0</td>\n      <td>1</td>\n      <td>2</td>\n      <td>3</td>\n      <td>0</td>\n      <td>0</td>\n      <td>...</td>\n      <td>5</td>\n      <td>3</td>\n      <td>2</td>\n      <td>5</td>\n      <td>False</td>\n      <td>2.5</td>\n      <td>True</td>\n      <td>4</td>\n      <td>0.250000</td>\n      <td>0.333333</td>\n    </tr>\n    <tr>\n      <th>...</th>\n      <td>...</td>\n      <td>...</td>\n      <td>...</td>\n      <td>...</td>\n      <td>...</td>\n      <td>...</td>\n      <td>...</td>\n      <td>...</td>\n      <td>...</td>\n      <td>...</td>\n      <td>...</td>\n      <td>...</td>\n      <td>...</td>\n      <td>...</td>\n      <td>...</td>\n      <td>...</td>\n      <td>...</td>\n      <td>...</td>\n      <td>...</td>\n      <td>...</td>\n      <td>...</td>\n    </tr>\n    <tr>\n      <th>99995</th>\n      <td>0</td>\n      <td>0</td>\n      <td>18</td>\n      <td>0</td>\n      <td>1</td>\n      <td>0</td>\n      <td>2</td>\n      <td>1</td>\n      <td>3</td>\n      <td>0</td>\n      <td>...</td>\n      <td>1</td>\n      <td>2</td>\n      <td>5</td>\n      <td>8</td>\n      <td>True</td>\n      <td>1.5</td>\n      <td>False</td>\n      <td>3</td>\n      <td>0.333333</td>\n      <td>0.500000</td>\n    </tr>\n    <tr>\n      <th>99996</th>\n      <td>1</td>\n      <td>1</td>\n      <td>15</td>\n      <td>1</td>\n      <td>0</td>\n      <td>1</td>\n      <td>1</td>\n      <td>1</td>\n      <td>1</td>\n      <td>2</td>\n      <td>...</td>\n      <td>1</td>\n      <td>3</td>\n      <td>3</td>\n      <td>4</td>\n      <td>False</td>\n      <td>1.0</td>\n      <td>False</td>\n      <td>5</td>\n      <td>0.400000</td>\n      <td>0.250000</td>\n    </tr>\n    <tr>\n      <th>99997</th>\n      <td>1</td>\n      <td>0</td>\n      <td>22</td>\n      <td>1</td>\n      <td>1</td>\n      <td>0</td>\n      <td>4</td>\n      <td>4</td>\n      <td>0</td>\n      <td>2</td>\n      <td>...</td>\n      <td>1</td>\n      <td>5</td>\n      <td>5</td>\n      <td>1</td>\n      <td>False</td>\n      <td>4.0</td>\n      <td>False</td>\n      <td>9</td>\n      <td>0.444444</td>\n      <td>0.333333</td>\n    </tr>\n    <tr>\n      <th>99998</th>\n      <td>0</td>\n      <td>0</td>\n      <td>20</td>\n      <td>0</td>\n      <td>0</td>\n      <td>1</td>\n      <td>4</td>\n      <td>4</td>\n      <td>1</td>\n      <td>1</td>\n      <td>...</td>\n      <td>1</td>\n      <td>3</td>\n      <td>1</td>\n      <td>5</td>\n      <td>True</td>\n      <td>4.0</td>\n      <td>True</td>\n      <td>7</td>\n      <td>0.571429</td>\n      <td>0.250000</td>\n    </tr>\n    <tr>\n      <th>99999</th>\n      <td>1</td>\n      <td>1</td>\n      <td>16</td>\n      <td>1</td>\n      <td>1</td>\n      <td>1</td>\n      <td>1</td>\n      <td>4</td>\n      <td>2</td>\n      <td>2</td>\n      <td>...</td>\n      <td>3</td>\n      <td>5</td>\n      <td>1</td>\n      <td>5</td>\n      <td>False</td>\n      <td>2.5</td>\n      <td>False</td>\n      <td>7</td>\n      <td>0.285714</td>\n      <td>0.333333</td>\n    </tr>\n  </tbody>\n</table>\n<p>30000 rows × 34 columns</p>\n</div>"
     },
     "metadata": {},
     "execution_count": 103
    }
   ],
   "source": [
    "df_test = stu_inf[70000:]\n",
    "df_test.drop(['G'], axis=1, inplace=True)\n",
    "df_test\n",
    "# df_test.shape"
   ]
  },
  {
   "cell_type": "code",
   "execution_count": 104,
   "metadata": {},
   "outputs": [
    {
     "output_type": "execute_result",
     "data": {
      "text/plain": "[]"
     },
     "metadata": {},
     "execution_count": 104
    }
   ],
   "source": [
    "obj_cols = [col for t, col in zip(df_test.dtypes, df_test.columns) if t == 'object']\n",
    "# df_test.columns\n",
    "obj_cols"
   ]
  },
  {
   "cell_type": "code",
   "execution_count": 105,
   "metadata": {},
   "outputs": [
    {
     "output_type": "execute_result",
     "data": {
      "text/plain": "['school',\n 'class',\n 'age',\n 'address',\n 'famsize',\n 'Pstatus',\n 'Medu',\n 'Fedu',\n 'Mjob',\n 'Fjob',\n 'reason',\n 'guardian',\n 'traveltime',\n 'failures',\n 'famrel',\n 'freetime',\n 'goout',\n 'Walc',\n 'health',\n 'absences',\n 'PairEdu',\n 'All_alc',\n 'Dalc_per_week',\n 'studytime_ratio']"
     },
     "metadata": {},
     "execution_count": 105
    }
   ],
   "source": [
    "num_cols = [col for t, col in zip(df_test.dtypes, df_test.columns) if t == 'float' or t == 'int64'] \n",
    "# df_test.dtypes\n",
    "num_cols"
   ]
  },
  {
   "cell_type": "code",
   "execution_count": 106,
   "metadata": {},
   "outputs": [
    {
     "output_type": "execute_result",
     "data": {
      "text/plain": "['schoolsup',\n 'famsup',\n 'paid',\n 'activities',\n 'nursery',\n 'higher',\n 'internet',\n 'romantic',\n 'All_Sup',\n 'more_high']"
     },
     "metadata": {},
     "execution_count": 106
    }
   ],
   "source": [
    "bool_cols = [col for t, col in zip(df_test.dtypes, df_test.columns) if t == 'bool'] \n",
    "bool_cols"
   ]
  },
  {
   "cell_type": "code",
   "execution_count": 107,
   "metadata": {},
   "outputs": [
    {
     "output_type": "execute_result",
     "data": {
      "text/plain": "['schoolsup',\n 'famsup',\n 'paid',\n 'activities',\n 'nursery',\n 'higher',\n 'internet',\n 'romantic',\n 'All_Sup',\n 'more_high']"
     },
     "metadata": {},
     "execution_count": 107
    }
   ],
   "source": [
    "cat_cols = obj_cols + bool_cols\n",
    "cat_cols"
   ]
  },
  {
   "cell_type": "code",
   "execution_count": 108,
   "metadata": {},
   "outputs": [],
   "source": [
    "df_train_, df_test_ = df_train.copy(), df_test.copy()"
   ]
  },
  {
   "cell_type": "code",
   "execution_count": 109,
   "metadata": {},
   "outputs": [],
   "source": [
    "from sklearn.preprocessing import LabelEncoder\n",
    "\n",
    "le = LabelEncoder()\n",
    "\n",
    "# obj_cols = [col for t, col in zip(df_test.dtypes, df_test.columns) if t == 'object']\n",
    "# for col in obj_cols:\n",
    "#     df_train_[col] = le.fit_transform(df_train_[col])\n",
    "#     df_test_[col] = le.transform(df_test_[col])\n",
    "    \n",
    "# df_train_.head()    \n",
    "    "
   ]
  },
  {
   "cell_type": "code",
   "execution_count": 110,
   "metadata": {},
   "outputs": [],
   "source": [
    "# df_train_['All_Sup'] = df_train_['famsup'] & df_train_['schoolsup']\n",
    "# df_test_['All_Sup'] = df_test_['famsup'] & df_test_['schoolsup']\n",
    "\n",
    "# df_train_.head()"
   ]
  },
  {
   "cell_type": "code",
   "execution_count": 111,
   "metadata": {},
   "outputs": [],
   "source": [
    "# df_train_['PairEdu'] = df_train_[['Fedu', 'Medu']].mean(axis=1)\n",
    "# df_test_['PairEdu'] = df_test_[['Fedu', 'Medu']].mean(axis=1)\n",
    "\n",
    "# df_train_['more_high'] = df_train['higher'] & (df_train['schoolsup'] | df_train['paid'])\n",
    "# df_test_['more_high'] = df_test['higher'] & (df_test['schoolsup'] | df_test['paid'])"
   ]
  },
  {
   "cell_type": "code",
   "execution_count": 112,
   "metadata": {},
   "outputs": [],
   "source": [
    "# df_train_['All_alc'] = df_train_['Walc'] + df_train_['Dalc']\n",
    "# df_test_['All_alc'] = df_test_['Walc'] + df_test_['Dalc']\n",
    "\n",
    "# df_train_['Dalc_per_week'] = df_train_['Dalc'] / df_train_['All_alc']\n",
    "# df_test_['Dalc_per_week'] = df_test_['Dalc'] / df_test_['All_alc']\n",
    "\n",
    "# df_train_.drop(['Dalc'], axis=1, inplace=True)\n",
    "# df_test_.drop(['Dalc'], axis=1, inplace=True)\n",
    "\n"
   ]
  },
  {
   "cell_type": "code",
   "execution_count": 113,
   "metadata": {},
   "outputs": [
    {
     "output_type": "execute_result",
     "data": {
      "text/plain": "   school  class  age  address  famsize  Pstatus  Medu  Fedu  Mjob  Fjob  ...  \\\n0       0      0   16        0        1        1     2     2     3     2  ...   \n1       0      1   17        0        1        1     1     4     4     0  ...   \n2       0      0   20        0        0        1     2     1     2     1  ...   \n3       0      1   15        1        0        1     4     2     3     1  ...   \n4       0      0   16        0        1        0     1     2     3     0  ...   \n\n   Walc  health  absences  All_Sup  PairEdu  more_high  All_alc  \\\n0     5       5         0    False      2.0       True        7   \n1     2       4         7    False      2.5      False        7   \n2     4       4         5    False      1.5       True        8   \n3     4       2         8    False      3.0      False        9   \n4     3       2         3     True      1.5       True        6   \n\n   Dalc_per_week  studytime_ratio     G  \n0       0.285714         0.333333   7.0  \n1       0.714286         0.600000   9.0  \n2       0.500000         0.333333  10.0  \n3       0.555556         0.363636  10.0  \n4       0.500000         0.500000  10.0  \n\n[5 rows x 35 columns]",
      "text/html": "<div>\n<style scoped>\n    .dataframe tbody tr th:only-of-type {\n        vertical-align: middle;\n    }\n\n    .dataframe tbody tr th {\n        vertical-align: top;\n    }\n\n    .dataframe thead th {\n        text-align: right;\n    }\n</style>\n<table border=\"1\" class=\"dataframe\">\n  <thead>\n    <tr style=\"text-align: right;\">\n      <th></th>\n      <th>school</th>\n      <th>class</th>\n      <th>age</th>\n      <th>address</th>\n      <th>famsize</th>\n      <th>Pstatus</th>\n      <th>Medu</th>\n      <th>Fedu</th>\n      <th>Mjob</th>\n      <th>Fjob</th>\n      <th>...</th>\n      <th>Walc</th>\n      <th>health</th>\n      <th>absences</th>\n      <th>All_Sup</th>\n      <th>PairEdu</th>\n      <th>more_high</th>\n      <th>All_alc</th>\n      <th>Dalc_per_week</th>\n      <th>studytime_ratio</th>\n      <th>G</th>\n    </tr>\n  </thead>\n  <tbody>\n    <tr>\n      <th>0</th>\n      <td>0</td>\n      <td>0</td>\n      <td>16</td>\n      <td>0</td>\n      <td>1</td>\n      <td>1</td>\n      <td>2</td>\n      <td>2</td>\n      <td>3</td>\n      <td>2</td>\n      <td>...</td>\n      <td>5</td>\n      <td>5</td>\n      <td>0</td>\n      <td>False</td>\n      <td>2.0</td>\n      <td>True</td>\n      <td>7</td>\n      <td>0.285714</td>\n      <td>0.333333</td>\n      <td>7.0</td>\n    </tr>\n    <tr>\n      <th>1</th>\n      <td>0</td>\n      <td>1</td>\n      <td>17</td>\n      <td>0</td>\n      <td>1</td>\n      <td>1</td>\n      <td>1</td>\n      <td>4</td>\n      <td>4</td>\n      <td>0</td>\n      <td>...</td>\n      <td>2</td>\n      <td>4</td>\n      <td>7</td>\n      <td>False</td>\n      <td>2.5</td>\n      <td>False</td>\n      <td>7</td>\n      <td>0.714286</td>\n      <td>0.600000</td>\n      <td>9.0</td>\n    </tr>\n    <tr>\n      <th>2</th>\n      <td>0</td>\n      <td>0</td>\n      <td>20</td>\n      <td>0</td>\n      <td>0</td>\n      <td>1</td>\n      <td>2</td>\n      <td>1</td>\n      <td>2</td>\n      <td>1</td>\n      <td>...</td>\n      <td>4</td>\n      <td>4</td>\n      <td>5</td>\n      <td>False</td>\n      <td>1.5</td>\n      <td>True</td>\n      <td>8</td>\n      <td>0.500000</td>\n      <td>0.333333</td>\n      <td>10.0</td>\n    </tr>\n    <tr>\n      <th>3</th>\n      <td>0</td>\n      <td>1</td>\n      <td>15</td>\n      <td>1</td>\n      <td>0</td>\n      <td>1</td>\n      <td>4</td>\n      <td>2</td>\n      <td>3</td>\n      <td>1</td>\n      <td>...</td>\n      <td>4</td>\n      <td>2</td>\n      <td>8</td>\n      <td>False</td>\n      <td>3.0</td>\n      <td>False</td>\n      <td>9</td>\n      <td>0.555556</td>\n      <td>0.363636</td>\n      <td>10.0</td>\n    </tr>\n    <tr>\n      <th>4</th>\n      <td>0</td>\n      <td>0</td>\n      <td>16</td>\n      <td>0</td>\n      <td>1</td>\n      <td>0</td>\n      <td>1</td>\n      <td>2</td>\n      <td>3</td>\n      <td>0</td>\n      <td>...</td>\n      <td>3</td>\n      <td>2</td>\n      <td>3</td>\n      <td>True</td>\n      <td>1.5</td>\n      <td>True</td>\n      <td>6</td>\n      <td>0.500000</td>\n      <td>0.500000</td>\n      <td>10.0</td>\n    </tr>\n  </tbody>\n</table>\n<p>5 rows × 35 columns</p>\n</div>"
     },
     "metadata": {},
     "execution_count": 113
    }
   ],
   "source": [
    "# df_train_['studytime_ratio'] = df_train_['studytime'] / (df_train_[['studytime', 'traveltime', 'freetime']].sum(axis=1))\n",
    "# df_test_['studytime_ratio'] = df_test_['studytime'] / (df_test_[['studytime', 'traveltime', 'freetime']].sum(axis=1))\n",
    "\n",
    "# df_train_.drop([\"studytime\"], axis=1, inplace=True)\n",
    "# df_test_.drop([\"studytime\"], axis=1, inplace=True)\n",
    "\n",
    "df_train_.head()"
   ]
  },
  {
   "cell_type": "code",
   "execution_count": 114,
   "metadata": {},
   "outputs": [
    {
     "output_type": "execute_result",
     "data": {
      "text/plain": "Int64Index([], dtype='int64')"
     },
     "metadata": {},
     "execution_count": 114
    }
   ],
   "source": [
    "target_0_indx = df_train[df_train['G'] == 0].index\n",
    "target_0_indx"
   ]
  },
  {
   "cell_type": "code",
   "execution_count": 115,
   "metadata": {},
   "outputs": [],
   "source": [
    "def rmse(predictions, targets):\n",
    "    return np.sqrt(((predictions - targets) ** 2).mean())"
   ]
  },
  {
   "cell_type": "code",
   "execution_count": 116,
   "metadata": {},
   "outputs": [],
   "source": [
    "from sklearn.model_selection import KFold\n",
    "# from tqdm.notebook import tqdm\n",
    "from tqdm import tqdm\n",
    "import re\n",
    "from functools import partial\n",
    "\n",
    "# def cross_validation(reg, X, y, cv=5,scoring=None, random_state=42, verbose=True, cat_cols=[], reg_name=\"\",\n",
    "#                     preprocess=None):\n",
    "# #     if scoring is None: \n",
    "# #         print(\"Pass scoring as evaluation function as an argument.\")\n",
    "# #         return None\n",
    "#     oof = []\n",
    "#     np.random.seed(random_state)\n",
    "    \n",
    "#     seeds = np.random.randint(0, 100000, size=cv)\n",
    "    \n",
    "#     for i in range(cv):\n",
    "#         k_fold = KFold(n_splits=cv, shuffle=True, random_state=seeds[i])\n",
    "#         temp = np.zeros(len(X))\n",
    "\n",
    "#         for fold, ids in enumerate(tqdm(k_fold.split(X, y), disable=not verbose)):\n",
    "#             if verbose: print(\"{} Fold.\".format(fold+1))\n",
    "#             X_train, y_train = X[ids[0]], y[ids[0]]\n",
    "#             X_valid, y_valid = X[ids[1]], y[ids[1]]\n",
    "\n",
    "#     #         print(help(preprocess))\n",
    "#             if preprocess is not None:\n",
    "#     #       X_train, X_valid = partial(preprocess, train=X_train, test=X_valid)\n",
    "#                 X_train, X_valid = preprocess(train=X_train, test=X_valid)\n",
    "\n",
    "#             if verbose: print(\"\\tFitting...\")\n",
    "#             if reg_name == \"LightGBM\":\n",
    "#                 reg.fit(X_train, y_train, categorical_feature=cat_cols)\n",
    "#             elif reg_name == \"CatBoost\":\n",
    "#                 reg.fit(X_train, y_train, cat_features=cat_cols)\n",
    "#             else:\n",
    "#                 reg.fit(X_train, y_train)\n",
    "#             if verbose: print(\"\\tPredicting...\")\n",
    "#             p = reg.predict(X_valid)\n",
    "#             if verbose: print(\"\\tEvaluating...\")\n",
    "            \n",
    "#             temp[ids[1]] += p\n",
    "#         oof = np.append(oof, rmse(y, temp))\n",
    "        \n",
    "#     return np.mean(oof)"
   ]
  },
  {
   "cell_type": "code",
   "execution_count": 117,
   "metadata": {},
   "outputs": [],
   "source": [
    "from sklearn.preprocessing import StandardScaler\n",
    "from sklearn.pipeline import Pipeline\n",
    "from sklearn.impute import SimpleImputer\n",
    "\n",
    "def preprocess(train, test, target_col=\"G\", standardize=True, impute=True):\n",
    "    work = None\n",
    "    \n",
    "    if not isinstance(train, np.ndarray):\n",
    "        if target_col in train.columns:\n",
    "            work = train[target_col]\n",
    "            train = train.drop(target_col, axis=1)\n",
    "    \n",
    "    if impute:\n",
    "        imputer = SimpleImputer(strategy=\"median\")\n",
    "        train = imputer.fit_transform(train)\n",
    "        test = imputer.transform(test)\n",
    "        \n",
    "    if standardize:\n",
    "        sc = StandardScaler()\n",
    "        train = sc.fit_transform(train)\n",
    "        test = sc.transform(test)\n",
    "    \n",
    "#     if work is not None:\n",
    "#         train[target_col] = work.values\n",
    "    return train, test"
   ]
  },
  {
   "cell_type": "code",
   "execution_count": 118,
   "metadata": {},
   "outputs": [],
   "source": [
    "from sklearn.model_selection import cross_validate\n",
    "from lightgbm import LGBMRegressor\n",
    "from catboost import CatBoostRegressor\n",
    "from xgboost import XGBRegressor, XGBRFRegressor\n",
    "from sklearn.ensemble import RandomForestRegressor\n",
    "from sklearn.svm import SVR\n",
    "from sklearn.linear_model import ElasticNet, SGDRegressor\n",
    "from sklearn.ensemble import BaggingRegressor\n",
    "from sklearn.tree import DecisionTreeRegressor\n",
    "import numpy as np\n",
    "target_col = 'G'\n",
    "X = df_train_.drop([target_col], axis=1)\n",
    "y = df_train_[target_col]\n",
    "\n",
    "X_other = X.drop(target_0_indx, axis=0).values\n",
    "y_other = y.drop(target_0_indx, axis=0).values\n",
    "\n",
    "\n",
    "# d_regs = {\n",
    "#     \"LightGBM\": LGBMRegressor(),\n",
    "#     \"CatBoost\": CatBoostRegressor(verbose=False),\n",
    "#     \"XGBoost\": XGBRegressor(objective=\"reg:squarederror\"),\n",
    "#     \"XGRFBoost\": XGBRFRegressor(objective=\"reg:squarederror\"),\n",
    "#     \"RandomForest\": RandomForestRegressor(n_estimators=100, n_jobs=-1),\n",
    "#     \"DecisionTree\": DecisionTreeRegressor(),\n",
    "#     \"Support Vector Machine\": SVR(gamma=\"auto\"),\n",
    "#     \"ElasticNet\": ElasticNet(),\n",
    "#     \"SGD\": SGDRegressor(),\n",
    "# #     \"BaggingReg\": BaggingRegressor(DecisionTreeRegressor(), n_estimators=100, n_jobs=-1),\n",
    "# }\n",
    "\n",
    "# d_scores = {}\n",
    "# for reg_name, reg in d_regs.items():\n",
    "#     print(\"{} : \".format(reg_name), end=\"\")\n",
    "    \n",
    "# #     cross_validate(reg, X_other, y_other, cv=5, scoring=rmse_scorer)['test_score'].mean()\n",
    "#     d_scores[reg_name] = cross_validation(reg, X_other, y_other, cv=5,scoring=rmse, random_state= 100,verbose=False, cat_cols=cat_cols, preprocess=preprocess)\n",
    "\n",
    "# #     print(len(d_scores))\n",
    "#     print(d_scores[reg_name])"
   ]
  },
  {
   "cell_type": "code",
   "execution_count": 119,
   "metadata": {},
   "outputs": [],
   "source": [
    "# from imblearn.over_sampling import SMOTE\n",
    "# from lightgbm import LGBMClassifier\n",
    "# from sklearn.model_selection import KFold\n",
    "# from sklearn.metrics import roc_auc_score\n",
    "\n",
    "# smote = SMOTE()\n",
    "\n",
    "# X_0 = X.copy()\n",
    "# y_0 = y.copy()\n",
    "# y_0[y_0 != 0] = 10\n",
    "\n",
    "# k_fold = KFold(n_splits=5, shuffle=False)\n",
    "\n",
    "# list_cv = np.zeros(len(y_0))\n",
    "\n",
    "# for ids in k_fold.split(X_0, y_0):\n",
    "#     X_train, y_train = X_0.iloc[ids[0]], y_0.iloc[ids[0]]\n",
    "#     X_valid, y_valid = X_0.iloc[ids[1]], y_0.iloc[ids[1]]\n",
    "    \n",
    "#     smote = SMOTE()\n",
    "#     X_train, y_train = smote.fit_sample(X_train, y_train)\n",
    "\n",
    "#     clf = LGBMClassifier()\n",
    "#     clf.fit(X_train, y_train)\n",
    "#     list_cv[ids[1]] += clf.predict_proba(X_valid)[:, 1]\n",
    "    \n",
    "# roc_auc_score(y_0, list_cv)"
   ]
  },
  {
   "cell_type": "code",
   "execution_count": 120,
   "metadata": {
    "tags": []
   },
   "outputs": [
    {
     "output_type": "stream",
     "name": "stdout",
     "text": "school  class  age  address  famsize  Pstatus  Medu  Fedu  Mjob  Fjob  \\\n70000       1      0   19        1        0        0     2     4     1     1   \n70001       1      1   15        0        0        1     4     2     1     0   \n70002       1      1   17        1        0        1     1     3     1     2   \n70003       1      0   20        1        1        0     1     1     3     4   \n70004       0      0   22        1        0        1     2     3     0     0   \n...       ...    ...  ...      ...      ...      ...   ...   ...   ...   ...   \n99995       0      0   18        0        1        0     2     1     3     0   \n99996       1      1   15        1        0        1     1     1     1     2   \n99997       1      0   22        1        1        0     4     4     0     2   \n99998       0      0   20        0        0        1     4     4     1     1   \n99999       1      1   16        1        1        1     1     4     2     2   \n\n       ...  goout  Walc  health  absences  All_Sup  PairEdu  more_high  \\\n70000  ...      5     2       2         6    False      3.0       True   \n70001  ...      5     4       3         2    False      3.0      False   \n70002  ...      5     4       2         7     True      2.0      False   \n70003  ...      1     1       2         7    False      1.0       True   \n70004  ...      5     3       2         5    False      2.5       True   \n...    ...    ...   ...     ...       ...      ...      ...        ...   \n99995  ...      1     2       5         8     True      1.5      False   \n99996  ...      1     3       3         4    False      1.0      False   \n99997  ...      1     5       5         1    False      4.0      False   \n99998  ...      1     3       1         5     True      4.0       True   \n99999  ...      3     5       1         5    False      2.5      False   \n\n       All_alc  Dalc_per_week  studytime_ratio  \n70000        7       0.714286         0.375000  \n70001        6       0.333333         0.125000  \n70002        5       0.200000         0.222222  \n70003        4       0.750000         0.222222  \n70004        4       0.250000         0.333333  \n...        ...            ...              ...  \n99995        3       0.333333         0.500000  \n99996        5       0.400000         0.250000  \n99997        9       0.444444         0.333333  \n99998        7       0.571429         0.250000  \n99999        7       0.285714         0.333333  \n\n[30000 rows x 34 columns]\n732     12.0\n733      9.0\n734      9.0\n735      9.0\n736     11.0\n        ... \n1039     9.0\n1040    11.0\n1041     8.0\n1042    10.0\n1043     9.0\nName: G, Length: 312, dtype: float64\n"
    },
    {
     "output_type": "error",
     "ename": "ValueError",
     "evalue": "operands could not be broadcast together with shapes (312,) (30000,) ",
     "traceback": [
      "\u001b[1;31m---------------------------------------------------------------------------\u001b[0m",
      "\u001b[1;31mValueError\u001b[0m                                Traceback (most recent call last)",
      "\u001b[1;32m<ipython-input-120-f3c78f2d777a>\u001b[0m in \u001b[0;36m<module>\u001b[1;34m\u001b[0m\n\u001b[0;32m     42\u001b[0m \u001b[1;31m# print(type(cat_predict))\u001b[0m\u001b[1;33m\u001b[0m\u001b[1;33m\u001b[0m\u001b[1;33m\u001b[0m\u001b[0m\n\u001b[0;32m     43\u001b[0m \u001b[1;33m\u001b[0m\u001b[0m\n\u001b[1;32m---> 44\u001b[1;33m \u001b[0mScore\u001b[0m \u001b[1;33m=\u001b[0m \u001b[0mcat_reg\u001b[0m\u001b[1;33m.\u001b[0m\u001b[0mscore\u001b[0m\u001b[1;33m(\u001b[0m\u001b[0mX_test\u001b[0m\u001b[1;33m,\u001b[0m \u001b[0mY_test\u001b[0m\u001b[1;33m)\u001b[0m\u001b[1;33m\u001b[0m\u001b[1;33m\u001b[0m\u001b[0m\n\u001b[0m\u001b[0;32m     45\u001b[0m \u001b[1;33m\u001b[0m\u001b[0m\n\u001b[0;32m     46\u001b[0m \u001b[0mprint\u001b[0m\u001b[1;33m(\u001b[0m\u001b[0mScore\u001b[0m\u001b[1;33m)\u001b[0m\u001b[1;33m\u001b[0m\u001b[1;33m\u001b[0m\u001b[0m\n",
      "\u001b[1;32m~\\AppData\\Local\\Programs\\Python\\Python37\\lib\\site-packages\\catboost\\core.py\u001b[0m in \u001b[0;36mscore\u001b[1;34m(self, X, y)\u001b[0m\n\u001b[0;32m   4963\u001b[0m         )\n\u001b[0;32m   4964\u001b[0m         \u001b[0mtotal_sum_of_squares\u001b[0m \u001b[1;33m=\u001b[0m \u001b[0mnp\u001b[0m\u001b[1;33m.\u001b[0m\u001b[0msum\u001b[0m\u001b[1;33m(\u001b[0m\u001b[1;33m(\u001b[0m\u001b[0my\u001b[0m \u001b[1;33m-\u001b[0m \u001b[0my\u001b[0m\u001b[1;33m.\u001b[0m\u001b[0mmean\u001b[0m\u001b[1;33m(\u001b[0m\u001b[0maxis\u001b[0m\u001b[1;33m=\u001b[0m\u001b[1;36m0\u001b[0m\u001b[1;33m)\u001b[0m\u001b[1;33m)\u001b[0m \u001b[1;33m**\u001b[0m \u001b[1;36m2\u001b[0m\u001b[1;33m)\u001b[0m\u001b[1;33m\u001b[0m\u001b[1;33m\u001b[0m\u001b[0m\n\u001b[1;32m-> 4965\u001b[1;33m         \u001b[0mresidual_sum_of_squares\u001b[0m \u001b[1;33m=\u001b[0m \u001b[0mnp\u001b[0m\u001b[1;33m.\u001b[0m\u001b[0msum\u001b[0m\u001b[1;33m(\u001b[0m\u001b[1;33m(\u001b[0m\u001b[0my\u001b[0m \u001b[1;33m-\u001b[0m \u001b[0mpredictions\u001b[0m\u001b[1;33m)\u001b[0m \u001b[1;33m**\u001b[0m \u001b[1;36m2\u001b[0m\u001b[1;33m)\u001b[0m\u001b[1;33m\u001b[0m\u001b[1;33m\u001b[0m\u001b[0m\n\u001b[0m\u001b[0;32m   4966\u001b[0m         \u001b[1;32mreturn\u001b[0m \u001b[1;36m1\u001b[0m \u001b[1;33m-\u001b[0m \u001b[0mresidual_sum_of_squares\u001b[0m \u001b[1;33m/\u001b[0m \u001b[0mtotal_sum_of_squares\u001b[0m\u001b[1;33m\u001b[0m\u001b[1;33m\u001b[0m\u001b[0m\n\u001b[0;32m   4967\u001b[0m \u001b[1;33m\u001b[0m\u001b[0m\n",
      "\u001b[1;31mValueError\u001b[0m: operands could not be broadcast together with shapes (312,) (30000,) "
     ]
    }
   ],
   "source": [
    "from catboost import CatBoostClassifier, CatBoostRegressor\n",
    "from sklearn.metrics import r2_score\n",
    "import joblib\n",
    "cat_reg = CatBoostRegressor(verbose=False)\n",
    "cat_clf = CatBoostClassifier(verbose=False)\n",
    "# os.chdir(\"./model_save\")\n",
    "X = df_train_.drop([target_col], axis=1)\n",
    "y = df_train_[target_col]\n",
    "X_test = df_test_.copy()\n",
    "Y_test = stu_inf[70000:]['G']\n",
    "print(X_test)\n",
    "from imblearn.over_sampling import SMOTE\n",
    "\n",
    "X_0 = X.copy()\n",
    "y_0 = y.copy()\n",
    "y_0[y_0 != 0] = 10\n",
    "\n",
    "smote = SMOTE()\n",
    "# X_0, y_0 = smote.fit_sample(X_0, y_0)\n",
    "\n",
    "# cat_clf.fit(X_0, y_0)\n",
    "\n",
    "# clf_predict = cat_clf.predict(X_test)\n",
    "# predict_0_indx = X_test[clf_predict == 0].index\n",
    "# X_test_normal = X_test.drop(predict_0_indx, axis=0)\n",
    "# Y_test_normal = Y_test.drop(predict_0_indx, axis=0)\n",
    "print(Y_test)\n",
    "# print(type(Y_test_normal))\n",
    "\n",
    "df_tmp = df_train_[df_train_[target_col] != 0]\n",
    "X_ = df_tmp.drop([target_col], axis=1)\n",
    "y_ = df_tmp[target_col]\n",
    "cat_reg.fit(X_, y_)\n",
    "joblib.dump(cat_reg, \"train_model.m\")\n",
    "\n",
    "cat_predict = cat_reg.predict(X_test)\n",
    "# print(X_test)\n",
    "# print('#################')\n",
    "# print(cat_predict)\n",
    "# print(cat_predict[1])\n",
    "# print(len(cat_predict))\n",
    "# print(type(cat_predict))\n",
    "\n",
    "Score = cat_reg.score(X_test, Y_test)\n",
    "\n",
    "print(Score)\n",
    "\n",
    "print('#################')\n",
    "print(r2_score(Y_test,cat_predict))\n",
    "\n",
    "\n",
    "df_pred_reg = pd.DataFrame(cat_predict, index=X_test.index, columns=[target_col])\n",
    "# df_pred_clf = pd.DataFrame(np.zeros(len(predict_0_indx)), index=predict_0_indx, columns=[target_col])\n",
    "\n",
    "# df_predict = pd.concat([df_pred_reg, df_pred_clf]).sort_index()\n",
    "df_predict = df_pred_reg.sort_index()\n",
    "\n",
    "# df_predict = np.round(df_predict)\n",
    "df_predict.to_csv('cat_submit2.csv')"
   ]
  }
 ],
 "metadata": {
  "kernelspec": {
   "display_name": "Python 3",
   "language": "python",
   "name": "python3"
  },
  "language_info": {
   "codemirror_mode": {
    "name": "ipython",
    "version": 3
   },
   "file_extension": ".py",
   "mimetype": "text/x-python",
   "name": "python",
   "nbconvert_exporter": "python",
   "pygments_lexer": "ipython3",
   "version": "3.7.7-final"
  }
 },
 "nbformat": 4,
 "nbformat_minor": 2
}